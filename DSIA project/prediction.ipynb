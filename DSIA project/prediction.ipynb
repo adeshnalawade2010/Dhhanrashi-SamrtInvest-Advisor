{
 "cells": [
  {
   "cell_type": "markdown",
   "metadata": {},
   "source": [
    "### Random Forest Algo:-\n",
    "It is the supervised machine learning algorithm which is for classification and \n",
    "Regression module \n",
    "It is based on ensemble learning\n",
    "Deffination:-\"Random Forest is a classifier that contains a number of decision trees on various subsets of the given dataset and takes the average to improve the predictive accuracy of that dataset.\n",
    "The greater number of trees in the forest leads to higher accuracy and prevents the problem of overfitting.\n",
    "\""
   ]
  },
  {
   "cell_type": "code",
   "execution_count": 1,
   "metadata": {},
   "outputs": [],
   "source": [
    "import pandas as pd \n",
    "import numpy as np\n",
    "import matplotlib.pylab as plt\n",
    "import seaborn as sns\n",
    "from sklearn.preprocessing import LabelEncoder, StandardScaler\n",
    "from sklearn.model_selection import train_test_split\n",
    "from sklearn.ensemble import RandomForestRegressor\n",
    "from sklearn.metrics import mean_squared_error\n",
    "from sklearn.metrics import confusion_matrix\n",
    "import pickle\n",
    "import sklearn\n",
    "import joblib\n",
    "\n",
    "# from sklearn.preprocessing import OneHotEncoder\n",
    "# from sklearn.compose import ColumnTransformer"
   ]
  },
  {
   "cell_type": "code",
   "execution_count": 2,
   "metadata": {
    "scrolled": false
   },
   "outputs": [
    {
     "data": {
      "text/html": [
       "<div>\n",
       "<style scoped>\n",
       "    .dataframe tbody tr th:only-of-type {\n",
       "        vertical-align: middle;\n",
       "    }\n",
       "\n",
       "    .dataframe tbody tr th {\n",
       "        vertical-align: top;\n",
       "    }\n",
       "\n",
       "    .dataframe thead th {\n",
       "        text-align: right;\n",
       "    }\n",
       "</style>\n",
       "<table border=\"1\" class=\"dataframe\">\n",
       "  <thead>\n",
       "    <tr style=\"text-align: right;\">\n",
       "      <th></th>\n",
       "      <th>a</th>\n",
       "      <th>scheme_name</th>\n",
       "      <th>min_sip</th>\n",
       "      <th>min_lumpsum</th>\n",
       "      <th>expense_ratio</th>\n",
       "      <th>fund_size_cr</th>\n",
       "      <th>fund_age_yr</th>\n",
       "      <th>fund_manager</th>\n",
       "      <th>sortino</th>\n",
       "      <th>alpha</th>\n",
       "      <th>...</th>\n",
       "      <th>beta</th>\n",
       "      <th>sharpe</th>\n",
       "      <th>risk_level</th>\n",
       "      <th>amc_name</th>\n",
       "      <th>rating</th>\n",
       "      <th>category</th>\n",
       "      <th>sub_category</th>\n",
       "      <th>returns_1yr</th>\n",
       "      <th>returns_3yr</th>\n",
       "      <th>returns_5yr</th>\n",
       "    </tr>\n",
       "  </thead>\n",
       "  <tbody>\n",
       "    <tr>\n",
       "      <th>0</th>\n",
       "      <td>0</td>\n",
       "      <td>Aditya Birla SL Active Debt Multi-Mgr FoF-Dir ...</td>\n",
       "      <td>100</td>\n",
       "      <td>100</td>\n",
       "      <td>0.27</td>\n",
       "      <td>10.0</td>\n",
       "      <td>10</td>\n",
       "      <td>Kaustubh Gupta</td>\n",
       "      <td>0.32</td>\n",
       "      <td>2.24</td>\n",
       "      <td>...</td>\n",
       "      <td>0.01</td>\n",
       "      <td>0.24</td>\n",
       "      <td>3</td>\n",
       "      <td>Aditya Birla Sun Life Mutual Fund</td>\n",
       "      <td>3</td>\n",
       "      <td>Other</td>\n",
       "      <td>FoFs Domestic</td>\n",
       "      <td>4.0</td>\n",
       "      <td>6.5</td>\n",
       "      <td>6.900000</td>\n",
       "    </tr>\n",
       "    <tr>\n",
       "      <th>1</th>\n",
       "      <td>1</td>\n",
       "      <td>Aditya Birla SL Arbitrage Fund</td>\n",
       "      <td>1000</td>\n",
       "      <td>1000</td>\n",
       "      <td>0.36</td>\n",
       "      <td>4288.0</td>\n",
       "      <td>10</td>\n",
       "      <td>Lovelish Solanki</td>\n",
       "      <td>1.33</td>\n",
       "      <td>1.53</td>\n",
       "      <td>...</td>\n",
       "      <td>0.56</td>\n",
       "      <td>1.10</td>\n",
       "      <td>1</td>\n",
       "      <td>Aditya Birla Sun Life Mutual Fund</td>\n",
       "      <td>3</td>\n",
       "      <td>Hybrid</td>\n",
       "      <td>Arbitrage Mutual Funds</td>\n",
       "      <td>5.6</td>\n",
       "      <td>4.8</td>\n",
       "      <td>5.500000</td>\n",
       "    </tr>\n",
       "    <tr>\n",
       "      <th>2</th>\n",
       "      <td>2</td>\n",
       "      <td>Aditya Birla SL Asset Allocator FoF-Dir Growth</td>\n",
       "      <td>1000</td>\n",
       "      <td>1000</td>\n",
       "      <td>0.53</td>\n",
       "      <td>157.0</td>\n",
       "      <td>10</td>\n",
       "      <td>Vinod Narayan Bhat</td>\n",
       "      <td>3.44</td>\n",
       "      <td>2.67</td>\n",
       "      <td>...</td>\n",
       "      <td>0.67</td>\n",
       "      <td>1.42</td>\n",
       "      <td>5</td>\n",
       "      <td>Aditya Birla Sun Life Mutual Fund</td>\n",
       "      <td>3</td>\n",
       "      <td>Other</td>\n",
       "      <td>FoFs Domestic</td>\n",
       "      <td>2.0</td>\n",
       "      <td>18.9</td>\n",
       "      <td>9.700000</td>\n",
       "    </tr>\n",
       "    <tr>\n",
       "      <th>3</th>\n",
       "      <td>3</td>\n",
       "      <td>Aditya Birla SL Bal Bhavishya Yojna â€“ Dir Gr...</td>\n",
       "      <td>500</td>\n",
       "      <td>1000</td>\n",
       "      <td>0.76</td>\n",
       "      <td>637.0</td>\n",
       "      <td>4</td>\n",
       "      <td>Atul Penkar</td>\n",
       "      <td>2.18</td>\n",
       "      <td>-6.37</td>\n",
       "      <td>...</td>\n",
       "      <td>0.85</td>\n",
       "      <td>0.90</td>\n",
       "      <td>6</td>\n",
       "      <td>Aditya Birla Sun Life Mutual Fund</td>\n",
       "      <td>2</td>\n",
       "      <td>Solution Oriented</td>\n",
       "      <td>Childrens Funds</td>\n",
       "      <td>-0.7</td>\n",
       "      <td>17.1</td>\n",
       "      <td>9.747059</td>\n",
       "    </tr>\n",
       "    <tr>\n",
       "      <th>4</th>\n",
       "      <td>4</td>\n",
       "      <td>Aditya Birla SL Balanced Advantage Fund</td>\n",
       "      <td>100</td>\n",
       "      <td>100</td>\n",
       "      <td>0.61</td>\n",
       "      <td>6386.0</td>\n",
       "      <td>10</td>\n",
       "      <td>Mohit Sharma</td>\n",
       "      <td>3.69</td>\n",
       "      <td>1.99</td>\n",
       "      <td>...</td>\n",
       "      <td>0.68</td>\n",
       "      <td>1.39</td>\n",
       "      <td>6</td>\n",
       "      <td>Aditya Birla Sun Life Mutual Fund</td>\n",
       "      <td>4</td>\n",
       "      <td>Hybrid</td>\n",
       "      <td>Dynamic Asset Allocation or Balanced Advantage</td>\n",
       "      <td>4.5</td>\n",
       "      <td>18.6</td>\n",
       "      <td>9.700000</td>\n",
       "    </tr>\n",
       "  </tbody>\n",
       "</table>\n",
       "<p>5 rows × 21 columns</p>\n",
       "</div>"
      ],
      "text/plain": [
       "   a                                        scheme_name  min_sip  min_lumpsum  \\\n",
       "0  0  Aditya Birla SL Active Debt Multi-Mgr FoF-Dir ...      100          100   \n",
       "1  1                     Aditya Birla SL Arbitrage Fund     1000         1000   \n",
       "2  2     Aditya Birla SL Asset Allocator FoF-Dir Growth     1000         1000   \n",
       "3  3  Aditya Birla SL Bal Bhavishya Yojna â€“ Dir Gr...      500         1000   \n",
       "4  4            Aditya Birla SL Balanced Advantage Fund      100          100   \n",
       "\n",
       "   expense_ratio  fund_size_cr  fund_age_yr        fund_manager  sortino  \\\n",
       "0           0.27          10.0           10      Kaustubh Gupta     0.32   \n",
       "1           0.36        4288.0           10    Lovelish Solanki     1.33   \n",
       "2           0.53         157.0           10  Vinod Narayan Bhat     3.44   \n",
       "3           0.76         637.0            4         Atul Penkar     2.18   \n",
       "4           0.61        6386.0           10        Mohit Sharma     3.69   \n",
       "\n",
       "   alpha  ...  beta  sharpe  risk_level                           amc_name  \\\n",
       "0   2.24  ...  0.01    0.24           3  Aditya Birla Sun Life Mutual Fund   \n",
       "1   1.53  ...  0.56    1.10           1  Aditya Birla Sun Life Mutual Fund   \n",
       "2   2.67  ...  0.67    1.42           5  Aditya Birla Sun Life Mutual Fund   \n",
       "3  -6.37  ...  0.85    0.90           6  Aditya Birla Sun Life Mutual Fund   \n",
       "4   1.99  ...  0.68    1.39           6  Aditya Birla Sun Life Mutual Fund   \n",
       "\n",
       "  rating           category                                    sub_category  \\\n",
       "0      3              Other                                   FoFs Domestic   \n",
       "1      3             Hybrid                          Arbitrage Mutual Funds   \n",
       "2      3              Other                                   FoFs Domestic   \n",
       "3      2  Solution Oriented                                 Childrens Funds   \n",
       "4      4             Hybrid  Dynamic Asset Allocation or Balanced Advantage   \n",
       "\n",
       "  returns_1yr  returns_3yr  returns_5yr  \n",
       "0         4.0          6.5     6.900000  \n",
       "1         5.6          4.8     5.500000  \n",
       "2         2.0         18.9     9.700000  \n",
       "3        -0.7         17.1     9.747059  \n",
       "4         4.5         18.6     9.700000  \n",
       "\n",
       "[5 rows x 21 columns]"
      ]
     },
     "execution_count": 2,
     "metadata": {},
     "output_type": "execute_result"
    }
   ],
   "source": [
    "data=pd.read_csv('data.csv')\n",
    "data.head()"
   ]
  },
  {
   "cell_type": "code",
   "execution_count": 3,
   "metadata": {},
   "outputs": [
    {
     "data": {
      "text/plain": [
       "Index(['a', 'scheme_name', 'min_sip', 'min_lumpsum', 'expense_ratio',\n",
       "       'fund_size_cr', 'fund_age_yr', 'fund_manager', 'sortino', 'alpha', 'sd',\n",
       "       'beta', 'sharpe', 'risk_level', 'amc_name', 'rating', 'category',\n",
       "       'sub_category', 'returns_1yr', 'returns_3yr', 'returns_5yr'],\n",
       "      dtype='object')"
      ]
     },
     "execution_count": 3,
     "metadata": {},
     "output_type": "execute_result"
    }
   ],
   "source": [
    "data.columns"
   ]
  },
  {
   "cell_type": "code",
   "execution_count": 4,
   "metadata": {},
   "outputs": [
    {
     "data": {
      "text/plain": [
       "17094"
      ]
     },
     "execution_count": 4,
     "metadata": {},
     "output_type": "execute_result"
    }
   ],
   "source": [
    "data.shape\n",
    "data.info\n",
    "data.size"
   ]
  },
  {
   "cell_type": "code",
   "execution_count": 5,
   "metadata": {},
   "outputs": [],
   "source": [
    "# # data.drop(columns=['a'],axis=1,inplace=True)\n",
    "# sns.heatmap(data.corr(),annot=True)\n",
    "# data.corr()"
   ]
  },
  {
   "cell_type": "markdown",
   "metadata": {},
   "source": [
    "### From above information some columns have a strongly correlation  with the risk_level column. these columns are \n",
    "### 1) sd 2)sortino 3)returns_3yr 4)sharpe 5)expense_ratio\n",
    "### so we use expense_ratio as target_column"
   ]
  },
  {
   "cell_type": "code",
   "execution_count": 6,
   "metadata": {},
   "outputs": [
    {
     "data": {
      "image/png": "[encoded data removed]",
      "text/plain": [
       "<Figure size 1000x800 with 1 Axes>"
      ]
     },
     "metadata": {},
     "output_type": "display_data"
    }
   ],
   "source": [
    "plt.figure(figsize=(10,8))\n",
    "plt.scatter(data['risk_level'],data['expense_ratio'],marker='.',color='red')\n",
    "plt.grid()\n",
    "plt.xlabel('risk_level')\n",
    "plt.ylabel('expense_ratio')\n",
    "plt.title('scatter plot')\n",
    "plt.show()"
   ]
  },
  {
   "cell_type": "markdown",
   "metadata": {},
   "source": [
    "### when we uses Random Forest , it is not  neccessary to convert categorical datatype columns  into the numerical datatype columns but we doing this covertation for better accurcy .so we are   doing converting datatypes."
   ]
  },
  {
   "cell_type": "markdown",
   "metadata": {},
   "source": [
    "### Convert categorical columns to numerical using LabelEncoder or One-Hot Encoding"
   ]
  },
  {
   "cell_type": "code",
   "execution_count": 7,
   "metadata": {},
   "outputs": [],
   "source": [
    "label_encoder = LabelEncoder()\n",
    "data['scheme_name']=label_encoder.fit_transform(data['scheme_name'])\n",
    "data['fund_manager']=label_encoder.fit_transform(data['fund_manager'])\n",
    "data['amc_name']=label_encoder.fit_transform(data['amc_name'])\n",
    "data['category']=label_encoder.fit_transform(data['category'])\n",
    "data['sub_category']=label_encoder.fit_transform(data['sub_category'])\n",
    "# One-hot encode categorical columns\n",
    "# ct = ColumnTransformer([('one_hot_encoder', OneHotEncoder(), categorical_columns)], remainder='passthrough')\n",
    "# X_encoded = ct.fit_transform(data)\n",
    "# categorical_columns = ['category', 'sub_category', 'amc_name', 'fund_manager']\n"
   ]
  },
  {
   "cell_type": "markdown",
   "metadata": {},
   "source": [
    "### scale numerical columns"
   ]
  },
  {
   "cell_type": "code",
   "execution_count": 8,
   "metadata": {},
   "outputs": [],
   "source": [
    "scaler=StandardScaler()\n",
    "numerical_columns=['min_sip', 'min_lumpsum', 'expense_ratio', 'fund_size_cr', 'fund_age_yr',\n",
    "                     'sortino', 'alpha', 'sd', 'beta', 'sharpe', 'risk_level', 'rating',\n",
    "                     'returns_1yr', 'returns_3yr', 'returns_5yr']\n",
    "data[numerical_columns]=scaler.fit_transform(data[numerical_columns])"
   ]
  },
  {
   "cell_type": "code",
   "execution_count": null,
   "metadata": {},
   "outputs": [],
   "source": []
  },
  {
   "cell_type": "code",
   "execution_count": 9,
   "metadata": {},
   "outputs": [],
   "source": [
    "# Independent variable\n",
    "X=data.drop(columns=['expense_ratio'])#feature\n",
    "y=data['expense_ratio']#target"
   ]
  },
  {
   "cell_type": "markdown",
   "metadata": {},
   "source": [
    "### training and Testing Data"
   ]
  },
  {
   "cell_type": "code",
   "execution_count": 10,
   "metadata": {},
   "outputs": [
    {
     "data": {
      "text/plain": [
       "(163,)"
      ]
     },
     "execution_count": 10,
     "metadata": {},
     "output_type": "execute_result"
    }
   ],
   "source": [
    "X_train,X_test,y_train,y_test=train_test_split(X,y,test_size=0.2,random_state=42)\n",
    "\n",
    "#651 X 21\n",
    "X_train.shape\n",
    "#(163 X 21) \n",
    "X_test.shape\n",
    "# 651 X 1\n",
    "y_train.shape\n",
    "#163 X 1\n",
    "y_test.shape"
   ]
  },
  {
   "cell_type": "code",
   "execution_count": 11,
   "metadata": {
    "scrolled": true
   },
   "outputs": [
    {
     "data": {
      "text/html": [
       "<style>#sk-container-id-1 {color: black;}#sk-container-id-1 pre{padding: 0;}#sk-container-id-1 div.sk-toggleable {background-color: white;}#sk-container-id-1 label.sk-toggleable__label {cursor: pointer;display: block;width: 100%;margin-bottom: 0;padding: 0.3em;box-sizing: border-box;text-align: center;}#sk-container-id-1 label.sk-toggleable__label-arrow:before {content: \"▸\";float: left;margin-right: 0.25em;color: #696969;}#sk-container-id-1 label.sk-toggleable__label-arrow:hover:before {color: black;}#sk-container-id-1 div.sk-estimator:hover label.sk-toggleable__label-arrow:before {color: black;}#sk-container-id-1 div.sk-toggleable__content {max-height: 0;max-width: 0;overflow: hidden;text-align: left;background-color: #f0f8ff;}#sk-container-id-1 div.sk-toggleable__content pre {margin: 0.2em;color: black;border-radius: 0.25em;background-color: #f0f8ff;}#sk-container-id-1 input.sk-toggleable__control:checked~div.sk-toggleable__content {max-height: 200px;max-width: 100%;overflow: auto;}#sk-container-id-1 input.sk-toggleable__control:checked~label.sk-toggleable__label-arrow:before {content: \"▾\";}#sk-container-id-1 div.sk-estimator input.sk-toggleable__control:checked~label.sk-toggleable__label {background-color: #d4ebff;}#sk-container-id-1 div.sk-label input.sk-toggleable__control:checked~label.sk-toggleable__label {background-color: #d4ebff;}#sk-container-id-1 input.sk-hidden--visually {border: 0;clip: rect(1px 1px 1px 1px);clip: rect(1px, 1px, 1px, 1px);height: 1px;margin: -1px;overflow: hidden;padding: 0;position: absolute;width: 1px;}#sk-container-id-1 div.sk-estimator {font-family: monospace;background-color: #f0f8ff;border: 1px dotted black;border-radius: 0.25em;box-sizing: border-box;margin-bottom: 0.5em;}#sk-container-id-1 div.sk-estimator:hover {background-color: #d4ebff;}#sk-container-id-1 div.sk-parallel-item::after {content: \"\";width: 100%;border-bottom: 1px solid gray;flex-grow: 1;}#sk-container-id-1 div.sk-label:hover label.sk-toggleable__label {background-color: #d4ebff;}#sk-container-id-1 div.sk-serial::before {content: \"\";position: absolute;border-left: 1px solid gray;box-sizing: border-box;top: 0;bottom: 0;left: 50%;z-index: 0;}#sk-container-id-1 div.sk-serial {display: flex;flex-direction: column;align-items: center;background-color: white;padding-right: 0.2em;padding-left: 0.2em;position: relative;}#sk-container-id-1 div.sk-item {position: relative;z-index: 1;}#sk-container-id-1 div.sk-parallel {display: flex;align-items: stretch;justify-content: center;background-color: white;position: relative;}#sk-container-id-1 div.sk-item::before, #sk-container-id-1 div.sk-parallel-item::before {content: \"\";position: absolute;border-left: 1px solid gray;box-sizing: border-box;top: 0;bottom: 0;left: 50%;z-index: -1;}#sk-container-id-1 div.sk-parallel-item {display: flex;flex-direction: column;z-index: 1;position: relative;background-color: white;}#sk-container-id-1 div.sk-parallel-item:first-child::after {align-self: flex-end;width: 50%;}#sk-container-id-1 div.sk-parallel-item:last-child::after {align-self: flex-start;width: 50%;}#sk-container-id-1 div.sk-parallel-item:only-child::after {width: 0;}#sk-container-id-1 div.sk-dashed-wrapped {border: 1px dashed gray;margin: 0 0.4em 0.5em 0.4em;box-sizing: border-box;padding-bottom: 0.4em;background-color: white;}#sk-container-id-1 div.sk-label label {font-family: monospace;font-weight: bold;display: inline-block;line-height: 1.2em;}#sk-container-id-1 div.sk-label-container {text-align: center;}#sk-container-id-1 div.sk-container {/* jupyter's `normalize.less` sets `[hidden] { display: none; }` but bootstrap.min.css set `[hidden] { display: none !important; }` so we also need the `!important` here to be able to override the default hidden behavior on the sphinx rendered scikit-learn.org. See: https://github.com/scikit-learn/scikit-learn/issues/21755 */display: inline-block !important;position: relative;}#sk-container-id-1 div.sk-text-repr-fallback {display: none;}</style><div id=\"sk-container-id-1\" class=\"sk-top-container\"><div class=\"sk-text-repr-fallback\"><pre>RandomForestRegressor(random_state=42)</pre><b>In a Jupyter environment, please rerun this cell to show the HTML representation or trust the notebook. <br />On GitHub, the HTML representation is unable to render, please try loading this page with nbviewer.org.</b></div><div class=\"sk-container\" hidden><div class=\"sk-item\"><div class=\"sk-estimator sk-toggleable\"><input class=\"sk-toggleable__control sk-hidden--visually\" id=\"sk-estimator-id-1\" type=\"checkbox\" checked><label for=\"sk-estimator-id-1\" class=\"sk-toggleable__label sk-toggleable__label-arrow\">RandomForestRegressor</label><div class=\"sk-toggleable__content\"><pre>RandomForestRegressor(random_state=42)</pre></div></div></div></div></div>"
      ],
      "text/plain": [
       "RandomForestRegressor(random_state=42)"
      ]
     },
     "execution_count": 11,
     "metadata": {},
     "output_type": "execute_result"
    }
   ],
   "source": [
    "classifier = RandomForestRegressor(random_state=42)\n",
    "classifier.fit(X_train,y_train)"
   ]
  },
  {
   "cell_type": "code",
   "execution_count": 12,
   "metadata": {},
   "outputs": [
    {
     "data": {
      "text/plain": [
       "array([ 0.18899286, -0.60210011, -0.63011626,  0.21327352, -0.74923676,\n",
       "       -0.89139276,  0.42827151,  0.67813403,  0.09581323,  0.61629098,\n",
       "       -0.85818844,  0.27490904, -0.73948299,  0.74661794, -0.88890244,\n",
       "        2.44315127,  1.1035644 , -0.60313774,  0.67128564,  0.77504914,\n",
       "       -1.31142744,  0.1800692 ,  0.15973155,  0.8377223 ,  0.75886204,\n",
       "        1.21376125, -1.02026704,  0.10909496, -0.77621527, -0.78119592,\n",
       "        1.43913558,  0.96389873,  1.23555158,  0.60321678,  0.50049091,\n",
       "        1.22662792,  0.76591796,  0.51481027, -0.66124531,  0.09083258,\n",
       "       -0.44188926, -0.08245247,  1.05811599,  1.04296652, -0.73138944,\n",
       "       -0.1909891 ,  0.26723055,  1.19300855, -1.01777672,  0.73976955,\n",
       "        0.33177145, -0.88163899, -0.63405927, -0.1864235 , -0.78347872,\n",
       "       -1.13233163,  0.28549292, -0.66850875, -0.72454105, -1.02877565,\n",
       "        0.41415967,  0.55631567, -0.98685519,  0.75927709, -1.29980592,\n",
       "       -0.34725694, -0.12665572, -0.39187525, -1.28382634,  0.55507051,\n",
       "        0.01321748, -0.76978194, -1.28237366,  1.1749537 ,  1.24966342,\n",
       "       -1.12029506, -0.46554734, -0.31737305, -0.23270203,  1.20566769,\n",
       "        0.32181015, -0.58964849,  0.56233396, -0.80402389,  0.26847571,\n",
       "       -1.32097368,  0.40544354,  0.48098337,  0.53763824,  0.40834891,\n",
       "       -0.95987668, -0.81232497, -0.77455506,  0.67087058, -1.14644346,\n",
       "        0.61608345, -0.22419342, -0.49439359, -0.52780544, -1.15993272,\n",
       "       -0.7764228 ,  1.15627627,  0.97427508,  0.59076516,  0.49239735,\n",
       "       -0.72308836,  0.98838691,  1.14942787,  0.20829287,  0.89250943,\n",
       "       -0.64215282,  1.00021595,  0.71279104,  0.33861984,  1.09941386,\n",
       "       -1.30582421,  0.76986097,  0.62791249, -1.24107578,  0.28404023,\n",
       "        0.09436054, -0.2870741 ,  0.8476836 , -0.12375035, -0.83888843,\n",
       "       -1.07277137, -0.61289151,  0.60363183,  1.52318402,  1.07596331,\n",
       "        0.31828219, -0.56142481,  0.53245007, -0.83971854, -0.77144215,\n",
       "        0.27138109, -0.19140415,  0.47538014,  0.77338893, -0.70482598,\n",
       "        0.11241539, -1.02773801,  0.22406493, -0.84303897, -0.02828792,\n",
       "        0.3068682 ,  1.18865048,  0.52954469,  0.08771968, -0.89616589,\n",
       "       -0.72308836,  0.17176812, -1.02877565, -0.50414736,  1.06620954,\n",
       "        0.12673476, -0.99598638,  0.60965012,  0.86179544,  0.38801127,\n",
       "       -0.570556  ,  0.59512322,  0.65530606])"
      ]
     },
     "execution_count": 12,
     "metadata": {},
     "output_type": "execute_result"
    }
   ],
   "source": [
    "y_prediction=classifier.predict(X_test)\n",
    "y_prediction"
   ]
  },
  {
   "cell_type": "code",
   "execution_count": 13,
   "metadata": {},
   "outputs": [
    {
     "name": "stdout",
     "output_type": "stream",
     "text": [
      "Mean Squared Error: 0.4701947369114593\n"
     ]
    }
   ],
   "source": [
    "mse = mean_squared_error(y_test, y_prediction)\n",
    "print(\"Mean Squared Error:\", mse)"
   ]
  },
  {
   "cell_type": "code",
   "execution_count": 15,
   "metadata": {},
   "outputs": [
    {
     "data": {
      "text/plain": [
       "['model.pkl']"
      ]
     },
     "execution_count": 15,
     "metadata": {},
     "output_type": "execute_result"
    }
   ],
   "source": [
    "joblib.dump(classifier,'model.pkl')"
   ]
  },
  {
   "cell_type": "code",
   "execution_count": null,
   "metadata": {},
   "outputs": [],
   "source": [
    "import pandas as pd \n",
    "import numpy as np\n",
    "from sklearn.preprocessing import LabelEncoder\n",
    "from sklearn.model_selection import train_test_split\n",
    "from sklearn.ensemble import RandomForestClassifier\n",
    "from sklearn.metrics import mean_squared_error\n",
    "from sklearn.metrics import accuracy_score, classification_report\n",
    "from sklearn.impute import SimpleImputer\n",
    "import joblib\n",
    "\n",
    "# Read the data\n",
    "data = pd.read_csv('data.csv')\n",
    "\n",
    "# Check for missing values\n",
    "print(data.isnull().sum())\n",
    "\n",
    "# Define features and targets\n",
    "features = ['min_sip','min_lumpsum','expense_ratio','fund_size_cr','fund_age_yr','sortino','alpha','sd','sharpe','beta']\n",
    "targets = ['category','sub_category','scheme_name','amc_name']\n",
    "\n",
    "# Encode target variables\n",
    "label_encoders = {}\n",
    "for target in targets:\n",
    "    le = LabelEncoder()\n",
    "    data[target] = le.fit_transform(data[target])\n",
    "    label_encoders[target]=le\n",
    "\n",
    "joblib.dump(label_encoders, 'label_encoders.pkl')\n",
    "    \n",
    "\n",
    "# Separate features and targets\n",
    "X = data[features]\n",
    "y = data[targets]\n",
    "\n",
    "# Train-test split\n",
    "X_train, X_test, y_train, y_test = train_test_split(X, y, test_size=0.2, random_state=42)\n",
    "\n",
    "# # Concatenate target variables into a single DataFrame\n",
    "# y_concatenated_train = pd.concat([y_train[col] for col in targets], axis=1)\n",
    "# y_concatenated_test = pd.concat([y_test[col] for col in targets], axis=1)\n",
    "\n",
    "# Initialize and train theRandomForestClassifier\n",
    "\n",
    "imputer = SimpleImputer(strategy='mean')\n",
    "X_train_imputed = imputer.fit_transform(X_train)\n",
    "X_test_imputed = imputer.transform(X_test)\n",
    "classifier = RandomForestClassifier(random_state=42)\n",
    "classifier.fit(X_train_imputed, y_train)\n",
    "\n",
    "# Make predictions\n",
    "y_prediction = classifier.predict(X_test_imputed)\n",
    "\n",
    "# Calculate Mean Squared Error\n",
    "mse = mean_squared_error(y_test, y_prediction)\n",
    "print(\"Mean Squared Error:\", mse)\n",
    "\n",
    "for i, target in enumerate(targets):\n",
    "    print(f\"Classification report for {target}:\")\n",
    "    print(classification_report(y_test[target], y_prediction[:, i]))\n",
    "# Save the trained model\n",
    "joblib.dump(classifier, 'model.pkl')\n"
   ]
  }
 ],
 "metadata": {
  "kernelspec": {
   "display_name": "Python 3 (ipykernel)",
   "language": "python",
   "name": "python3"
  },
  "language_info": {
   "codemirror_mode": {
    "name": "ipython",
    "version": 3
   },
   "file_extension": ".py",
   "mimetype": "text/x-python",
   "name": "python",
   "nbconvert_exporter": "python",
   "pygments_lexer": "ipython3",
   "version": "3.12.0"
  }
 },
 "nbformat": 4,
 "nbformat_minor": 2
}
