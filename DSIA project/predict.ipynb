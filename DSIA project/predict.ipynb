{
 "cells": [
  {
   "cell_type": "code",
   "execution_count": 3,
   "metadata": {},
   "outputs": [
    {
     "name": "stdout",
     "output_type": "stream",
     "text": [
      "scheme_name      0\n",
      "min_sip          0\n",
      "min_lumpsum      0\n",
      "expense_ratio    0\n",
      "fund_size_cr     0\n",
      "fund_age_yr      0\n",
      "fund_manager     0\n",
      "sortino          0\n",
      "alpha            0\n",
      "sd               0\n",
      "beta             0\n",
      "sharpe           0\n",
      "risk_level       0\n",
      "amc_name         0\n",
      "rating           0\n",
      "category         0\n",
      "sub_category     0\n",
      "returns_1yr      0\n",
      "returns_3yr      0\n",
      "returns_5yr      0\n",
      "dtype: int64\n",
      "Mean Squared Error: 13093.635777300615\n"
     ]
    },
    {
     "data": {
      "text/plain": [
       "['model.pkl']"
      ]
     },
     "execution_count": 3,
     "metadata": {},
     "output_type": "execute_result"
    }
   ],
   "source": [
    "import pandas as pd \n",
    "import numpy as np\n",
    "from sklearn.preprocessing import LabelEncoder\n",
    "from sklearn.model_selection import train_test_split\n",
    "from sklearn.ensemble import RandomForestRegressor\n",
    "from sklearn.metrics import mean_squared_error\n",
    "from sklearn.impute import SimpleImputer\n",
    "from sklearn.pipeline import Pipeline\n",
    "from sklearn.compose import ColumnTransformer\n",
    "import joblib\n",
    "\n",
    "# Read the data\n",
    "data = pd.read_csv('data.csv')\n",
    "\n",
    "# Check for missing values\n",
    "print(data.isnull().sum())\n",
    "\n",
    "# Define features and targets\n",
    "features = ['min_sip','min_lumpsum','expense_ratio','fund_size_cr','fund_age_yr','sortino','alpha','sd','sharpe','beta']\n",
    "targets = ['category','sub_category','scheme_name','amc_name']\n",
    "\n",
    "# Encode target variables\n",
    "label_encoders = {}\n",
    "for target in targets:\n",
    "    label_encoders[target] = LabelEncoder()\n",
    "    data[target] = label_encoders[target].fit_transform(data[target])\n",
    "\n",
    "# Separate features and targets\n",
    "X = data[features]\n",
    "y = data[targets]\n",
    "\n",
    "# Train-test split\n",
    "X_train, X_test, y_train, y_test = train_test_split(X, y, test_size=0.2, random_state=42)\n",
    "\n",
    "# Define preprocessing pipeline\n",
    "numeric_transformer = Pipeline(steps=[\n",
    "    ('imputer', SimpleImputer(strategy='mean')),\n",
    "])\n",
    "\n",
    "preprocessor = ColumnTransformer(\n",
    "    transformers=[\n",
    "        ('num', numeric_transformer, features),\n",
    "    ])\n",
    "\n",
    "# Initialize and train the RandomForestRegressor\n",
    "classifier = Pipeline(steps=[\n",
    "    ('preprocessor', preprocessor),\n",
    "    ('classifier', RandomForestRegressor(random_state=42))\n",
    "])\n",
    "\n",
    "classifier.fit(X_train, y_train)\n",
    "\n",
    "# Make predictions\n",
    "y_prediction = classifier.predict(X_test)\n",
    "\n",
    "# Calculate Mean Squared Error\n",
    "mse = mean_squared_error(y_test, y_prediction)\n",
    "print(\"Mean Squared Error:\", mse)\n",
    "\n",
    "# Save the trained model\n",
    "joblib.dump(classifier, 'model.pkl')\n"
   ]
  }
 ],
 "metadata": {
  "kernelspec": {
   "display_name": "Python 3",
   "language": "python",
   "name": "python3"
  },
  "language_info": {
   "codemirror_mode": {
    "name": "ipython",
    "version": 3
   },
   "file_extension": ".py",
   "mimetype": "text/x-python",
   "name": "python",
   "nbconvert_exporter": "python",
   "pygments_lexer": "ipython3",
   "version": "3.12.0"
  }
 },
 "nbformat": 4,
 "nbformat_minor": 2
}
